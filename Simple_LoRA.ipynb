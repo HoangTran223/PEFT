{
 "cells": [
  {
   "cell_type": "markdown",
   "id": "f78e7ced",
   "metadata": {
    "papermill": {
     "duration": 0.004941,
     "end_time": "2024-07-23T09:56:27.375089",
     "exception": false,
     "start_time": "2024-07-23T09:56:27.370148",
     "status": "completed"
    },
    "tags": []
   },
   "source": [
    "# **Huấn luyện vài mô hình mạng đơn giản với LoRA**"
   ]
  },
  {
   "cell_type": "code",
   "execution_count": 1,
   "id": "0ce53905",
   "metadata": {
    "execution": {
     "iopub.execute_input": "2024-07-23T09:56:27.386637Z",
     "iopub.status.busy": "2024-07-23T09:56:27.385694Z",
     "iopub.status.idle": "2024-07-23T09:56:40.998852Z",
     "shell.execute_reply": "2024-07-23T09:56:40.997114Z"
    },
    "papermill": {
     "duration": 13.621938,
     "end_time": "2024-07-23T09:56:41.001822",
     "exception": false,
     "start_time": "2024-07-23T09:56:27.379884",
     "status": "completed"
    },
    "tags": []
   },
   "outputs": [
    {
     "name": "stdout",
     "output_type": "stream",
     "text": [
      "Collecting peft\r\n",
      "  Downloading peft-0.11.1-py3-none-any.whl.metadata (13 kB)\r\n",
      "Requirement already satisfied: numpy>=1.17 in /opt/conda/lib/python3.10/site-packages (from peft) (1.26.4)\r\n",
      "Requirement already satisfied: packaging>=20.0 in /opt/conda/lib/python3.10/site-packages (from peft) (21.3)\r\n",
      "Requirement already satisfied: psutil in /opt/conda/lib/python3.10/site-packages (from peft) (5.9.3)\r\n",
      "Requirement already satisfied: pyyaml in /opt/conda/lib/python3.10/site-packages (from peft) (6.0.1)\r\n",
      "Requirement already satisfied: torch>=1.13.0 in /opt/conda/lib/python3.10/site-packages (from peft) (2.1.2+cpu)\r\n",
      "Requirement already satisfied: transformers in /opt/conda/lib/python3.10/site-packages (from peft) (4.42.3)\r\n",
      "Requirement already satisfied: tqdm in /opt/conda/lib/python3.10/site-packages (from peft) (4.66.4)\r\n",
      "Requirement already satisfied: accelerate>=0.21.0 in /opt/conda/lib/python3.10/site-packages (from peft) (0.32.1)\r\n",
      "Requirement already satisfied: safetensors in /opt/conda/lib/python3.10/site-packages (from peft) (0.4.3)\r\n",
      "Requirement already satisfied: huggingface-hub>=0.17.0 in /opt/conda/lib/python3.10/site-packages (from peft) (0.23.4)\r\n",
      "Requirement already satisfied: filelock in /opt/conda/lib/python3.10/site-packages (from huggingface-hub>=0.17.0->peft) (3.13.1)\r\n",
      "Requirement already satisfied: fsspec>=2023.5.0 in /opt/conda/lib/python3.10/site-packages (from huggingface-hub>=0.17.0->peft) (2024.5.0)\r\n",
      "Requirement already satisfied: requests in /opt/conda/lib/python3.10/site-packages (from huggingface-hub>=0.17.0->peft) (2.32.3)\r\n",
      "Requirement already satisfied: typing-extensions>=3.7.4.3 in /opt/conda/lib/python3.10/site-packages (from huggingface-hub>=0.17.0->peft) (4.9.0)\r\n",
      "Requirement already satisfied: pyparsing!=3.0.5,>=2.0.2 in /opt/conda/lib/python3.10/site-packages (from packaging>=20.0->peft) (3.1.1)\r\n",
      "Requirement already satisfied: sympy in /opt/conda/lib/python3.10/site-packages (from torch>=1.13.0->peft) (1.13.0)\r\n",
      "Requirement already satisfied: networkx in /opt/conda/lib/python3.10/site-packages (from torch>=1.13.0->peft) (3.2.1)\r\n",
      "Requirement already satisfied: jinja2 in /opt/conda/lib/python3.10/site-packages (from torch>=1.13.0->peft) (3.1.2)\r\n",
      "Requirement already satisfied: regex!=2019.12.17 in /opt/conda/lib/python3.10/site-packages (from transformers->peft) (2023.12.25)\r\n",
      "Requirement already satisfied: tokenizers<0.20,>=0.19 in /opt/conda/lib/python3.10/site-packages (from transformers->peft) (0.19.1)\r\n",
      "Requirement already satisfied: MarkupSafe>=2.0 in /opt/conda/lib/python3.10/site-packages (from jinja2->torch>=1.13.0->peft) (2.1.3)\r\n",
      "Requirement already satisfied: charset-normalizer<4,>=2 in /opt/conda/lib/python3.10/site-packages (from requests->huggingface-hub>=0.17.0->peft) (3.3.2)\r\n",
      "Requirement already satisfied: idna<4,>=2.5 in /opt/conda/lib/python3.10/site-packages (from requests->huggingface-hub>=0.17.0->peft) (3.6)\r\n",
      "Requirement already satisfied: urllib3<3,>=1.21.1 in /opt/conda/lib/python3.10/site-packages (from requests->huggingface-hub>=0.17.0->peft) (1.26.18)\r\n",
      "Requirement already satisfied: certifi>=2017.4.17 in /opt/conda/lib/python3.10/site-packages (from requests->huggingface-hub>=0.17.0->peft) (2024.7.4)\r\n",
      "Requirement already satisfied: mpmath<1.4,>=1.1.0 in /opt/conda/lib/python3.10/site-packages (from sympy->torch>=1.13.0->peft) (1.3.0)\r\n",
      "Downloading peft-0.11.1-py3-none-any.whl (251 kB)\r\n",
      "\u001b[2K   \u001b[90m━━━━━━━━━━━━━━━━━━━━━━━━━━━━━━━━━━━━━━━━\u001b[0m \u001b[32m251.6/251.6 kB\u001b[0m \u001b[31m4.6 MB/s\u001b[0m eta \u001b[36m0:00:00\u001b[0m\r\n",
      "\u001b[?25hInstalling collected packages: peft\r\n",
      "Successfully installed peft-0.11.1\r\n",
      "Note: you may need to restart the kernel to use updated packages.\n"
     ]
    }
   ],
   "source": [
    "%pip install peft"
   ]
  },
  {
   "cell_type": "code",
   "execution_count": 2,
   "id": "6a76334a",
   "metadata": {
    "execution": {
     "iopub.execute_input": "2024-07-23T09:56:41.020105Z",
     "iopub.status.busy": "2024-07-23T09:56:41.019636Z",
     "iopub.status.idle": "2024-07-23T09:56:47.406867Z",
     "shell.execute_reply": "2024-07-23T09:56:47.405978Z"
    },
    "papermill": {
     "duration": 6.398805,
     "end_time": "2024-07-23T09:56:47.409426",
     "exception": false,
     "start_time": "2024-07-23T09:56:41.010621",
     "status": "completed"
    },
    "tags": []
   },
   "outputs": [],
   "source": [
    "import os\n",
    "import torch\n",
    "import peft\n",
    "import torchvision\n",
    "import torch.nn as nn\n",
    "import torch.nn.functional as F\n",
    "from torchvision.transforms import transforms, ToTensor, Lambda\n",
    "from torch.utils.data import DataLoader, Subset\n",
    "from torchvision.datasets import CIFAR10\n"
   ]
  },
  {
   "cell_type": "markdown",
   "id": "7fe27c46",
   "metadata": {
    "papermill": {
     "duration": 0.005691,
     "end_time": "2024-07-23T09:56:47.420825",
     "exception": false,
     "start_time": "2024-07-23T09:56:47.415134",
     "status": "completed"
    },
    "tags": []
   },
   "source": [
    "**1. Dataset: sử dụng CIFAR-10**"
   ]
  },
  {
   "cell_type": "code",
   "execution_count": 3,
   "id": "9af772eb",
   "metadata": {
    "execution": {
     "iopub.execute_input": "2024-07-23T09:56:47.434234Z",
     "iopub.status.busy": "2024-07-23T09:56:47.433109Z",
     "iopub.status.idle": "2024-07-23T09:57:03.775127Z",
     "shell.execute_reply": "2024-07-23T09:57:03.774180Z"
    },
    "papermill": {
     "duration": 16.351374,
     "end_time": "2024-07-23T09:57:03.777768",
     "exception": false,
     "start_time": "2024-07-23T09:56:47.426394",
     "status": "completed"
    },
    "tags": []
   },
   "outputs": [
    {
     "name": "stdout",
     "output_type": "stream",
     "text": [
      "Downloading https://www.cs.toronto.edu/~kriz/cifar-10-python.tar.gz to data/cifar-10-python.tar.gz\n"
     ]
    },
    {
     "name": "stderr",
     "output_type": "stream",
     "text": [
      "100%|██████████| 170498071/170498071 [00:11<00:00, 14875067.13it/s]\n"
     ]
    },
    {
     "name": "stdout",
     "output_type": "stream",
     "text": [
      "Extracting data/cifar-10-python.tar.gz to data\n",
      "Files already downloaded and verified\n"
     ]
    }
   ],
   "source": [
    "batch_size = 6\n",
    "trainset = CIFAR10(\n",
    "    root='data',\n",
    "    train=True,\n",
    "    transform=ToTensor(),\n",
    "    download=True\n",
    ")\n",
    "\n",
    "testset = CIFAR10(\n",
    "    root='data',\n",
    "    train=False,\n",
    "    transform=ToTensor(),\n",
    "    download=True\n",
    ")\n",
    "\n",
    "num_batches = 100\n",
    "subset_indices = list(range(batch_size * num_batches))\n",
    "train_subset = Subset(trainset, subset_indices)\n",
    "\n",
    "train_dataloader = DataLoader(train_subset, batch_size=batch_size, shuffle=True)\n",
    "test_dataloader = DataLoader(testset, batch_size=batch_size, shuffle=True)\n",
    "\n",
    "\n",
    "num_classes = 10"
   ]
  },
  {
   "cell_type": "markdown",
   "id": "cff7baf6",
   "metadata": {
    "papermill": {
     "duration": 0.01059,
     "end_time": "2024-07-23T09:57:03.799760",
     "exception": false,
     "start_time": "2024-07-23T09:57:03.789170",
     "status": "completed"
    },
    "tags": []
   },
   "source": [
    "**2. Model: ta sẽ thử với 2 mạng đơn giản: MLP và CNN**"
   ]
  },
  {
   "cell_type": "code",
   "execution_count": 4,
   "id": "59996dab",
   "metadata": {
    "execution": {
     "iopub.execute_input": "2024-07-23T09:57:03.822870Z",
     "iopub.status.busy": "2024-07-23T09:57:03.822511Z",
     "iopub.status.idle": "2024-07-23T09:57:03.829063Z",
     "shell.execute_reply": "2024-07-23T09:57:03.827947Z"
    },
    "papermill": {
     "duration": 0.02082,
     "end_time": "2024-07-23T09:57:03.831271",
     "exception": false,
     "start_time": "2024-07-23T09:57:03.810451",
     "status": "completed"
    },
    "tags": []
   },
   "outputs": [],
   "source": [
    "# MLP đơn giản\n",
    "\n",
    "class MLP(nn.Module):\n",
    "    def __init__(self, input_size = 3072, num_hidden = 2000, num_classes = 10):\n",
    "        super(MLP, self).__init__()\n",
    "        self.seq = nn.Sequential(\n",
    "            nn.Linear(input_size, num_hidden),              # 3072, phù hợp với train dữ liệu phía dưới\n",
    "            nn.ReLU(),\n",
    "            nn.Linear(num_hidden, num_hidden),\n",
    "            nn.ReLU(),\n",
    "            nn.Linear(num_hidden, num_classes),\n",
    "        )\n",
    "\n",
    "    def forward(self, x):\n",
    "        return self.seq(x)"
   ]
  },
  {
   "cell_type": "code",
   "execution_count": 5,
   "id": "f15dd292",
   "metadata": {
    "execution": {
     "iopub.execute_input": "2024-07-23T09:57:03.854959Z",
     "iopub.status.busy": "2024-07-23T09:57:03.854584Z",
     "iopub.status.idle": "2024-07-23T09:57:03.862814Z",
     "shell.execute_reply": "2024-07-23T09:57:03.861548Z"
    },
    "papermill": {
     "duration": 0.022634,
     "end_time": "2024-07-23T09:57:03.864992",
     "exception": false,
     "start_time": "2024-07-23T09:57:03.842358",
     "status": "completed"
    },
    "tags": []
   },
   "outputs": [],
   "source": [
    "# CNN đơn giản\n",
    "\n",
    "import torch\n",
    "import torch.nn as nn\n",
    "\n",
    "class CNN(nn.Module):\n",
    "    def __init__(self):\n",
    "        super().__init__()\n",
    "        self.model = nn.Sequential(\n",
    "            nn.Conv2d(3, 6, 5),\n",
    "            nn.ReLU(),\n",
    "            nn.MaxPool2d(2, 2),\n",
    "            nn.Conv2d(6, 16, 5),\n",
    "            nn.ReLU(),\n",
    "            nn.MaxPool2d(2, 2),\n",
    "\n",
    "            nn.Flatten(),\n",
    "            nn.Linear(16 * 5 * 5, 120),\n",
    "            nn.ReLU(),\n",
    "            nn.Linear(120, 84),\n",
    "            nn.ReLU(),\n",
    "            nn.Linear(84, 10)\n",
    "        )\n",
    "\n",
    "    def forward(self, x):\n",
    "        return self.model(x)"
   ]
  },
  {
   "cell_type": "markdown",
   "id": "d4b28e53",
   "metadata": {
    "papermill": {
     "duration": 0.01064,
     "end_time": "2024-07-23T09:57:03.886852",
     "exception": false,
     "start_time": "2024-07-23T09:57:03.876212",
     "status": "completed"
    },
    "tags": []
   },
   "source": [
    "**3. Training với MLP**"
   ]
  },
  {
   "cell_type": "code",
   "execution_count": 6,
   "id": "6b5a2087",
   "metadata": {
    "execution": {
     "iopub.execute_input": "2024-07-23T09:57:03.910513Z",
     "iopub.status.busy": "2024-07-23T09:57:03.909705Z",
     "iopub.status.idle": "2024-07-23T09:57:03.917737Z",
     "shell.execute_reply": "2024-07-23T09:57:03.916665Z"
    },
    "papermill": {
     "duration": 0.022347,
     "end_time": "2024-07-23T09:57:03.920039",
     "exception": false,
     "start_time": "2024-07-23T09:57:03.897692",
     "status": "completed"
    },
    "tags": []
   },
   "outputs": [],
   "source": [
    "def train_model(model, optimizer, criterion, train_dataloader, test_dataloader, epochs):\n",
    "  for epoch in range(epochs):\n",
    "\n",
    "    # Train\n",
    "    model.train()\n",
    "    train_loss = 0\n",
    "    for x_batch, y_batch in train_dataloader:\n",
    "      x_batch = x_batch.view(x_batch.size(0), -1)       # Flatten\n",
    "      optimizer.zero_grad()\n",
    "      y_pred = model(x_batch)\n",
    "      loss = criterion(y_pred, y_batch)\n",
    "      loss.backward()\n",
    "      optimizer.step()\n",
    "      train_loss += loss.item()\n",
    "\n",
    "    #Evaluate\n",
    "    model.eval()\n",
    "    eval_loss = 0\n",
    "    for x_batch, y_batch in test_dataloader:\n",
    "      x_batch = x_batch.view(x_batch.size(0), -1)       # Flatten\n",
    "      with torch.no_grad():\n",
    "        y_pred = model(x_batch)\n",
    "      loss = criterion(y_pred, y_batch)\n",
    "      eval_loss += loss.item()\n",
    "\n",
    "    avg_train_loss = (train_loss / len(train_dataloader))\n",
    "    avg_eval_loss = (eval_loss / len(test_dataloader))\n",
    "    print(f\"{epoch=}  {avg_train_loss=:.4f}  {avg_eval_loss=:.4f}\")"
   ]
  },
  {
   "cell_type": "code",
   "execution_count": 7,
   "id": "b7c198b1",
   "metadata": {
    "execution": {
     "iopub.execute_input": "2024-07-23T09:57:03.944269Z",
     "iopub.status.busy": "2024-07-23T09:57:03.943340Z",
     "iopub.status.idle": "2024-07-23T10:01:47.075358Z",
     "shell.execute_reply": "2024-07-23T10:01:47.074096Z"
    },
    "papermill": {
     "duration": 283.158085,
     "end_time": "2024-07-23T10:01:47.089594",
     "exception": false,
     "start_time": "2024-07-23T09:57:03.931509",
     "status": "completed"
    },
    "tags": []
   },
   "outputs": [
    {
     "name": "stdout",
     "output_type": "stream",
     "text": [
      "epoch=0  avg_train_loss=2.3436  avg_eval_loss=2.1869\n",
      "epoch=1  avg_train_loss=2.1614  avg_eval_loss=2.1961\n",
      "epoch=2  avg_train_loss=2.0913  avg_eval_loss=2.2137\n",
      "epoch=3  avg_train_loss=2.0284  avg_eval_loss=2.1401\n",
      "epoch=4  avg_train_loss=1.9372  avg_eval_loss=2.0760\n",
      "epoch=5  avg_train_loss=1.9410  avg_eval_loss=2.1008\n",
      "epoch=6  avg_train_loss=1.9099  avg_eval_loss=2.0968\n",
      "epoch=7  avg_train_loss=1.8717  avg_eval_loss=2.0335\n",
      "epoch=8  avg_train_loss=1.8615  avg_eval_loss=2.0935\n",
      "epoch=9  avg_train_loss=1.8207  avg_eval_loss=2.0647\n",
      "epoch=10  avg_train_loss=1.7888  avg_eval_loss=2.2481\n",
      "epoch=11  avg_train_loss=1.7722  avg_eval_loss=2.1267\n",
      "epoch=12  avg_train_loss=1.7572  avg_eval_loss=2.1086\n",
      "epoch=13  avg_train_loss=1.7672  avg_eval_loss=2.2186\n",
      "epoch=14  avg_train_loss=1.7091  avg_eval_loss=2.1539\n"
     ]
    }
   ],
   "source": [
    "# Without PEFT\n",
    "\n",
    "module_without_PEFT = MLP(input_size=3072)\n",
    "criterion = nn.CrossEntropyLoss()\n",
    "optimizer = torch.optim.Adam(module_without_PEFT.parameters(), lr = 0.001)\n",
    "train_model(module_without_PEFT, optimizer, criterion, train_dataloader, test_dataloader, epochs = 15)"
   ]
  },
  {
   "cell_type": "code",
   "execution_count": 8,
   "id": "5fcf574f",
   "metadata": {
    "execution": {
     "iopub.execute_input": "2024-07-23T10:01:47.115311Z",
     "iopub.status.busy": "2024-07-23T10:01:47.114301Z",
     "iopub.status.idle": "2024-07-23T10:01:47.209575Z",
     "shell.execute_reply": "2024-07-23T10:01:47.208448Z"
    },
    "papermill": {
     "duration": 0.110388,
     "end_time": "2024-07-23T10:01:47.211838",
     "exception": false,
     "start_time": "2024-07-23T10:01:47.101450",
     "status": "completed"
    },
    "tags": []
   },
   "outputs": [
    {
     "data": {
      "text/plain": [
       "[('', __main__.MLP),\n",
       " ('seq', torch.nn.modules.container.Sequential),\n",
       " ('seq.0', torch.nn.modules.linear.Linear),\n",
       " ('seq.1', torch.nn.modules.activation.ReLU),\n",
       " ('seq.2', torch.nn.modules.linear.Linear),\n",
       " ('seq.3', torch.nn.modules.activation.ReLU),\n",
       " ('seq.4', torch.nn.modules.linear.Linear)]"
      ]
     },
     "execution_count": 8,
     "metadata": {},
     "output_type": "execute_result"
    }
   ],
   "source": [
    "# With PEFT\n",
    "\n",
    "module_with_PEFT = MLP()\n",
    "[(name, type(func)) for name, func in module_with_PEFT.named_modules()]"
   ]
  },
  {
   "cell_type": "code",
   "execution_count": 9,
   "id": "1a703fa9",
   "metadata": {
    "execution": {
     "iopub.execute_input": "2024-07-23T10:01:47.237187Z",
     "iopub.status.busy": "2024-07-23T10:01:47.236841Z",
     "iopub.status.idle": "2024-07-23T10:07:46.101917Z",
     "shell.execute_reply": "2024-07-23T10:07:46.100844Z"
    },
    "papermill": {
     "duration": 358.8939,
     "end_time": "2024-07-23T10:07:46.117783",
     "exception": false,
     "start_time": "2024-07-23T10:01:47.223883",
     "status": "completed"
    },
    "tags": []
   },
   "outputs": [
    {
     "name": "stdout",
     "output_type": "stream",
     "text": [
      "trainable params: 96,586 || all params: 10,260,596 || trainable%: 0.9413\n",
      "None\n",
      "epoch=0  avg_train_loss=2.2578  avg_eval_loss=2.1244\n",
      "epoch=1  avg_train_loss=2.0448  avg_eval_loss=2.0586\n",
      "epoch=2  avg_train_loss=1.9678  avg_eval_loss=2.0004\n",
      "epoch=3  avg_train_loss=1.9087  avg_eval_loss=2.0129\n",
      "epoch=4  avg_train_loss=1.7831  avg_eval_loss=2.0208\n",
      "epoch=5  avg_train_loss=1.7177  avg_eval_loss=1.9319\n",
      "epoch=6  avg_train_loss=1.6317  avg_eval_loss=2.0151\n",
      "epoch=7  avg_train_loss=1.5797  avg_eval_loss=1.9606\n",
      "epoch=8  avg_train_loss=1.5526  avg_eval_loss=2.0967\n",
      "epoch=9  avg_train_loss=1.5577  avg_eval_loss=2.0868\n",
      "epoch=10  avg_train_loss=1.4350  avg_eval_loss=2.0236\n",
      "epoch=11  avg_train_loss=1.3175  avg_eval_loss=2.2508\n",
      "epoch=12  avg_train_loss=1.3394  avg_eval_loss=2.1585\n",
      "epoch=13  avg_train_loss=1.3406  avg_eval_loss=2.0433\n",
      "epoch=14  avg_train_loss=1.1755  avg_eval_loss=2.1223\n",
      "epoch=15  avg_train_loss=1.1371  avg_eval_loss=2.3727\n",
      "epoch=16  avg_train_loss=1.0981  avg_eval_loss=2.2653\n",
      "epoch=17  avg_train_loss=1.0996  avg_eval_loss=2.6101\n",
      "epoch=18  avg_train_loss=0.9963  avg_eval_loss=2.5803\n",
      "epoch=19  avg_train_loss=1.2394  avg_eval_loss=2.4610\n",
      "epoch=20  avg_train_loss=0.9978  avg_eval_loss=2.6559\n",
      "epoch=21  avg_train_loss=0.8968  avg_eval_loss=2.4824\n",
      "epoch=22  avg_train_loss=0.9033  avg_eval_loss=2.3787\n",
      "epoch=23  avg_train_loss=0.7475  avg_eval_loss=2.7367\n",
      "epoch=24  avg_train_loss=0.8709  avg_eval_loss=2.6825\n",
      "epoch=25  avg_train_loss=0.9139  avg_eval_loss=2.7342\n",
      "epoch=26  avg_train_loss=0.7279  avg_eval_loss=2.8109\n",
      "epoch=27  avg_train_loss=0.6534  avg_eval_loss=2.8446\n",
      "epoch=28  avg_train_loss=0.7226  avg_eval_loss=3.0154\n",
      "epoch=29  avg_train_loss=0.5643  avg_eval_loss=2.9531\n"
     ]
    }
   ],
   "source": [
    "config = peft.LoraConfig(\n",
    "    r=8,\n",
    "    lora_dropout=0.05,\n",
    "    target_modules = [\"seq.0\", \"seq.2\"],\n",
    "    modules_to_save = [\"seq.4\"],\n",
    "    bias=\"lora_only\",\n",
    "    task_type=\"classification\"\n",
    ")\n",
    "\n",
    "peft_model = peft.get_peft_model(module_with_PEFT, config)\n",
    "optimizer = torch.optim.Adam(peft_model.parameters(), lr = 0.001)\n",
    "criterion = nn.CrossEntropyLoss()\n",
    "\n",
    "print(peft_model.print_trainable_parameters())\n",
    "train_model(peft_model, optimizer, criterion, train_dataloader, test_dataloader, epochs = 30)"
   ]
  },
  {
   "cell_type": "markdown",
   "id": "20f55616",
   "metadata": {
    "papermill": {
     "duration": 0.01351,
     "end_time": "2024-07-23T10:07:46.145085",
     "exception": false,
     "start_time": "2024-07-23T10:07:46.131575",
     "status": "completed"
    },
    "tags": []
   },
   "source": [
    "**4. Training với CNN**"
   ]
  },
  {
   "cell_type": "code",
   "execution_count": 10,
   "id": "64fb66ea",
   "metadata": {
    "execution": {
     "iopub.execute_input": "2024-07-23T10:07:46.174821Z",
     "iopub.status.busy": "2024-07-23T10:07:46.174019Z",
     "iopub.status.idle": "2024-07-23T10:07:46.182008Z",
     "shell.execute_reply": "2024-07-23T10:07:46.181024Z"
    },
    "papermill": {
     "duration": 0.025304,
     "end_time": "2024-07-23T10:07:46.184129",
     "exception": false,
     "start_time": "2024-07-23T10:07:46.158825",
     "status": "completed"
    },
    "tags": []
   },
   "outputs": [],
   "source": [
    "def train_model(model, optimizer, criterion, train_dataloader, test_dataloader, epochs):\n",
    "  for epoch in range(epochs):\n",
    "\n",
    "    # Train\n",
    "    model.train()\n",
    "    train_loss = 0\n",
    "    for x_batch, y_batch in train_dataloader:\n",
    "      optimizer.zero_grad()\n",
    "      # No flatten\n",
    "      y_pred = model(x_batch)\n",
    "      loss = criterion(y_pred, y_batch)\n",
    "      loss.backward()\n",
    "      optimizer.step()\n",
    "      train_loss += loss.item()\n",
    "\n",
    "    #Evaluate\n",
    "    model.eval()\n",
    "    eval_loss = 0\n",
    "    for x_batch, y_batch in test_dataloader:\n",
    "      # No flatten\n",
    "      with torch.no_grad():\n",
    "        y_pred = model(x_batch)\n",
    "      loss = criterion(y_pred, y_batch)\n",
    "      eval_loss += loss.item()\n",
    "\n",
    "    avg_train_loss = (train_loss / len(train_dataloader))\n",
    "    avg_eval_loss = (eval_loss / len(test_dataloader))\n",
    "    print(f\"{epoch=}  {avg_train_loss=:.4f}  {avg_eval_loss=:.4f}\")"
   ]
  },
  {
   "cell_type": "code",
   "execution_count": 11,
   "id": "c4d9d09a",
   "metadata": {
    "execution": {
     "iopub.execute_input": "2024-07-23T10:07:46.213392Z",
     "iopub.status.busy": "2024-07-23T10:07:46.212674Z",
     "iopub.status.idle": "2024-07-23T10:08:42.111834Z",
     "shell.execute_reply": "2024-07-23T10:08:42.110155Z"
    },
    "papermill": {
     "duration": 55.916438,
     "end_time": "2024-07-23T10:08:42.114318",
     "exception": false,
     "start_time": "2024-07-23T10:07:46.197880",
     "status": "completed"
    },
    "tags": []
   },
   "outputs": [
    {
     "name": "stdout",
     "output_type": "stream",
     "text": [
      "epoch=0  avg_train_loss=2.2840  avg_eval_loss=2.2351\n",
      "epoch=1  avg_train_loss=2.0918  avg_eval_loss=2.0648\n",
      "epoch=2  avg_train_loss=1.9696  avg_eval_loss=1.9779\n",
      "epoch=3  avg_train_loss=1.8788  avg_eval_loss=1.9297\n",
      "epoch=4  avg_train_loss=1.7936  avg_eval_loss=1.9112\n",
      "epoch=5  avg_train_loss=1.7338  avg_eval_loss=2.0407\n",
      "epoch=6  avg_train_loss=1.6817  avg_eval_loss=1.8874\n",
      "epoch=7  avg_train_loss=1.6107  avg_eval_loss=1.8981\n",
      "epoch=8  avg_train_loss=1.5735  avg_eval_loss=1.8796\n",
      "epoch=9  avg_train_loss=1.4992  avg_eval_loss=1.9817\n",
      "epoch=10  avg_train_loss=1.4164  avg_eval_loss=1.9934\n",
      "epoch=11  avg_train_loss=1.3760  avg_eval_loss=1.9055\n",
      "epoch=12  avg_train_loss=1.2907  avg_eval_loss=1.8377\n",
      "epoch=13  avg_train_loss=1.2068  avg_eval_loss=1.9527\n",
      "epoch=14  avg_train_loss=1.1615  avg_eval_loss=1.9801\n"
     ]
    }
   ],
   "source": [
    "# Without PEFT\n",
    "\n",
    "module_without_PEFT = CNN()\n",
    "criterion = nn.CrossEntropyLoss()\n",
    "optimizer = torch.optim.Adam(module_without_PEFT.parameters(), lr = 0.001)\n",
    "train_model(module_without_PEFT, optimizer, criterion, train_dataloader, test_dataloader, epochs = 15)"
   ]
  },
  {
   "cell_type": "code",
   "execution_count": 12,
   "id": "dc8f6651",
   "metadata": {
    "execution": {
     "iopub.execute_input": "2024-07-23T10:08:42.146443Z",
     "iopub.status.busy": "2024-07-23T10:08:42.146045Z",
     "iopub.status.idle": "2024-07-23T10:08:42.155596Z",
     "shell.execute_reply": "2024-07-23T10:08:42.154681Z"
    },
    "papermill": {
     "duration": 0.028083,
     "end_time": "2024-07-23T10:08:42.157667",
     "exception": false,
     "start_time": "2024-07-23T10:08:42.129584",
     "status": "completed"
    },
    "tags": []
   },
   "outputs": [
    {
     "data": {
      "text/plain": [
       "[('', __main__.CNN),\n",
       " ('model', torch.nn.modules.container.Sequential),\n",
       " ('model.0', torch.nn.modules.conv.Conv2d),\n",
       " ('model.1', torch.nn.modules.activation.ReLU),\n",
       " ('model.2', torch.nn.modules.pooling.MaxPool2d),\n",
       " ('model.3', torch.nn.modules.conv.Conv2d),\n",
       " ('model.4', torch.nn.modules.activation.ReLU),\n",
       " ('model.5', torch.nn.modules.pooling.MaxPool2d),\n",
       " ('model.6', torch.nn.modules.flatten.Flatten),\n",
       " ('model.7', torch.nn.modules.linear.Linear),\n",
       " ('model.8', torch.nn.modules.activation.ReLU),\n",
       " ('model.9', torch.nn.modules.linear.Linear),\n",
       " ('model.10', torch.nn.modules.activation.ReLU),\n",
       " ('model.11', torch.nn.modules.linear.Linear)]"
      ]
     },
     "execution_count": 12,
     "metadata": {},
     "output_type": "execute_result"
    }
   ],
   "source": [
    "# With PEFT\n",
    "\n",
    "module_with_PEFT = CNN()\n",
    "[(name, type(func)) for name, func in module_with_PEFT.named_modules()]"
   ]
  },
  {
   "cell_type": "code",
   "execution_count": 13,
   "id": "3ab21028",
   "metadata": {
    "execution": {
     "iopub.execute_input": "2024-07-23T10:08:42.188619Z",
     "iopub.status.busy": "2024-07-23T10:08:42.188243Z",
     "iopub.status.idle": "2024-07-23T10:11:43.436048Z",
     "shell.execute_reply": "2024-07-23T10:11:43.434673Z"
    },
    "papermill": {
     "duration": 181.26576,
     "end_time": "2024-07-23T10:11:43.438271",
     "exception": false,
     "start_time": "2024-07-23T10:08:42.172511",
     "status": "completed"
    },
    "tags": []
   },
   "outputs": [
    {
     "name": "stdout",
     "output_type": "stream",
     "text": [
      "trainable params: 8,756 || all params: 70,526 || trainable%: 12.4153\n",
      "None\n",
      "epoch=0  avg_train_loss=2.3021  avg_eval_loss=2.3042\n",
      "epoch=1  avg_train_loss=2.2921  avg_eval_loss=2.2824\n",
      "epoch=2  avg_train_loss=2.2295  avg_eval_loss=2.2205\n",
      "epoch=3  avg_train_loss=2.1883  avg_eval_loss=2.1848\n",
      "epoch=4  avg_train_loss=2.1484  avg_eval_loss=2.1628\n",
      "epoch=5  avg_train_loss=2.0965  avg_eval_loss=2.1209\n",
      "epoch=6  avg_train_loss=2.0460  avg_eval_loss=2.0887\n",
      "epoch=7  avg_train_loss=1.9609  avg_eval_loss=2.0163\n",
      "epoch=8  avg_train_loss=1.8680  avg_eval_loss=1.9493\n",
      "epoch=9  avg_train_loss=1.8540  avg_eval_loss=1.9223\n",
      "epoch=10  avg_train_loss=1.7895  avg_eval_loss=2.0188\n",
      "epoch=11  avg_train_loss=1.8064  avg_eval_loss=1.9993\n",
      "epoch=12  avg_train_loss=1.7412  avg_eval_loss=1.9608\n",
      "epoch=13  avg_train_loss=1.7064  avg_eval_loss=1.9043\n",
      "epoch=14  avg_train_loss=1.6926  avg_eval_loss=1.8847\n",
      "epoch=15  avg_train_loss=1.6545  avg_eval_loss=1.9785\n",
      "epoch=16  avg_train_loss=1.6219  avg_eval_loss=1.9340\n",
      "epoch=17  avg_train_loss=1.6411  avg_eval_loss=1.9848\n",
      "epoch=18  avg_train_loss=1.6440  avg_eval_loss=1.9250\n",
      "epoch=19  avg_train_loss=1.6061  avg_eval_loss=1.9059\n",
      "epoch=20  avg_train_loss=1.5859  avg_eval_loss=1.9055\n",
      "epoch=21  avg_train_loss=1.5544  avg_eval_loss=1.9224\n",
      "epoch=22  avg_train_loss=1.5289  avg_eval_loss=2.0339\n",
      "epoch=23  avg_train_loss=1.5023  avg_eval_loss=1.9879\n",
      "epoch=24  avg_train_loss=1.4993  avg_eval_loss=1.9638\n",
      "epoch=25  avg_train_loss=1.4969  avg_eval_loss=1.9608\n",
      "epoch=26  avg_train_loss=1.4615  avg_eval_loss=1.9564\n",
      "epoch=27  avg_train_loss=1.4291  avg_eval_loss=2.0362\n",
      "epoch=28  avg_train_loss=1.4565  avg_eval_loss=2.0309\n",
      "epoch=29  avg_train_loss=1.4081  avg_eval_loss=1.9807\n"
     ]
    }
   ],
   "source": [
    "config = peft.LoraConfig(\n",
    "    r=8,\n",
    "    lora_dropout=0.05,\n",
    "    target_modules = [\"model.0\", \"model.3\",\"model.7\", \"model.9\", \"model.11\"],\n",
    "    bias=\"lora_only\",\n",
    "    task_type=\"classification\"\n",
    ")\n",
    "\n",
    "peft_model = peft.get_peft_model(module_with_PEFT, config)\n",
    "optimizer = torch.optim.Adam(peft_model.parameters(), lr = 0.001)\n",
    "criterion = nn.CrossEntropyLoss()\n",
    "\n",
    "print(peft_model.print_trainable_parameters())\n",
    "train_model(peft_model, optimizer, criterion, train_dataloader, test_dataloader, epochs = 30)"
   ]
  }
 ],
 "metadata": {
  "kaggle": {
   "accelerator": "none",
   "dataSources": [],
   "dockerImageVersionId": 30746,
   "isGpuEnabled": false,
   "isInternetEnabled": true,
   "language": "python",
   "sourceType": "notebook"
  },
  "kernelspec": {
   "display_name": "Python 3",
   "language": "python",
   "name": "python3"
  },
  "language_info": {
   "codemirror_mode": {
    "name": "ipython",
    "version": 3
   },
   "file_extension": ".py",
   "mimetype": "text/x-python",
   "name": "python",
   "nbconvert_exporter": "python",
   "pygments_lexer": "ipython3",
   "version": "3.10.13"
  },
  "papermill": {
   "default_parameters": {},
   "duration": 919.789269,
   "end_time": "2024-07-23T10:11:44.580977",
   "environment_variables": {},
   "exception": null,
   "input_path": "__notebook__.ipynb",
   "output_path": "__notebook__.ipynb",
   "parameters": {},
   "start_time": "2024-07-23T09:56:24.791708",
   "version": "2.5.0"
  }
 },
 "nbformat": 4,
 "nbformat_minor": 5
}
